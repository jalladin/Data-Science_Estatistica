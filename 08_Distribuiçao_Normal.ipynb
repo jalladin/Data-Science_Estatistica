{
 "cells": [
  {
   "cell_type": "markdown",
   "metadata": {},
   "source": [
    "# Distribuiçao Normal"
   ]
  },
  {
   "cell_type": "code",
   "execution_count": 1,
   "metadata": {},
   "outputs": [],
   "source": [
    "from scipy.stats import norm"
   ]
  },
  {
   "cell_type": "markdown",
   "metadata": {},
   "source": [
    "Este bloco de código faz parte da biblioteca SciPy, especificamente do módulo scipy.stats, que contém funções e classes para trabalhar com estatísticas e distribuições de probabilidade. A função norm que você importou é usada para trabalhar com a distribuição normal ou distribuição gaussiana, uma das distribuições mais comuns na estatística.\n",
    "\n",
    "Aqui está o que você pode fazer com norm:\n",
    "\n",
    "Cálculo de probabilidades: Você pode calcular a probabilidade de que uma variável aleatória normalmente distribuída assuma valores dentro de um intervalo.\n",
    "\n",
    "Funções principais:\n",
    "\n",
    "**norm.pdf(x):** Densidade de probabilidade no ponto x para uma distribuição normal padrão.\\\n",
    "**norm.cdf(x):** Função de distribuição acumulada, ou seja, a probabilidade de que uma variável aleatória tenha um valor menor ou igual a x.\\\n",
    "**norm.ppf(q):** Percent point function (função inversa de cdf), que retorna o valor de x tal que P(X ≤ x) = q.\\\n",
    "Parâmetros de localização e escala: Você pode alterar a média (loc) e o desvio padrão (scale) para ajustar a distribuição normal a diferentes situações, como:\n",
    "norm.pdf(x, loc=mean, scale=std_dev)\n",
    "\n",
    "Este código é especialmente útil em várias aplicações de estatística e machine learning, como:\\\n",
    "\n",
    "Testes de hipóteses,\\\n",
    "Cálculo de intervalos de confiança,\\\n",
    "Modelagem de fenômenos que seguem uma distribuição normal."
   ]
  },
  {
   "cell_type": "code",
   "execution_count": 2,
   "metadata": {},
   "outputs": [
    {
     "data": {
      "text/plain": [
       "0.15865525393145707"
      ]
     },
     "execution_count": 2,
     "metadata": {},
     "output_type": "execute_result"
    }
   ],
   "source": [
    "#Conjunto de objetos em uma cesta , a média é 8 e o desvio padrao é 2.\n",
    "#Qual a probabilidade de tirar um objeto que o peso é menor que 6 quilos?\n",
    "\n",
    "norm.cdf(6,8,2) #Menor que"
   ]
  },
  {
   "cell_type": "code",
   "execution_count": 4,
   "metadata": {},
   "outputs": [
    {
     "data": {
      "text/plain": [
       "0.8413447460685429"
      ]
     },
     "execution_count": 4,
     "metadata": {},
     "output_type": "execute_result"
    }
   ],
   "source": [
    "#Qual a probabilidade de tirar um objeto que o peso é maior que 6 quilos?\n",
    "#norm.sf(6,8,2)\n",
    "1-norm.cdf(6,8,2)"
   ]
  },
  {
   "cell_type": "code",
   "execution_count": null,
   "metadata": {},
   "outputs": [],
   "source": [
    "#Qual a probabilidade de tirar um objeto que o peso é menor que 6 ou maior que 10 quilos?\n",
    "norm.cdf(6,8,2)"
   ]
  }
 ],
 "metadata": {
  "kernelspec": {
   "display_name": "Python 3",
   "language": "python",
   "name": "python3"
  },
  "language_info": {
   "codemirror_mode": {
    "name": "ipython",
    "version": 3
   },
   "file_extension": ".py",
   "mimetype": "text/x-python",
   "name": "python",
   "nbconvert_exporter": "python",
   "pygments_lexer": "ipython3",
   "version": "3.11.7"
  }
 },
 "nbformat": 4,
 "nbformat_minor": 2
}
