{
 "cells": [
  {
   "cell_type": "markdown",
   "metadata": {},
   "source": [
    "## Distribuiçao Binominal"
   ]
  },
  {
   "cell_type": "markdown",
   "metadata": {},
   "source": [
    "Regras para se usar a ditribuiçao Binominal\n",
    "\n",
    "- Deve ter um numero fixo de experimentos\n",
    "- Cada experimento deve ter 2 resultados: Fracasso e sucesso\n",
    "- A probabilidade de sucesso deve ser a mesma em cada experimento\n",
    "- Os experimentos sao independentes"
   ]
  },
  {
   "cell_type": "markdown",
   "metadata": {},
   "source": [
    "## f(x) = (nx) p^x (1-p)^(n-x)"
   ]
  },
  {
   "attachments": {
    "image.png": {
     "image/png": "[encoded data removed]"
    }
   },
   "cell_type": "markdown",
   "metadata": {},
   "source": [
    "![image.png](attachment:image.png)"
   ]
  },
  {
   "cell_type": "markdown",
   "metadata": {},
   "source": [
    "x = Total de sucesso esperado do experimento\\\n",
    "p = probabilidade de sucesso\\\n",
    "n = número de experimentos\n",
    "\n",
    "1-p = probabilidade de fracassos"
   ]
  },
  {
   "cell_type": "markdown",
   "metadata": {},
   "source": [
    "**formula**"
   ]
  }
 ],
 "metadata": {
  "language_info": {
   "name": "python"
  }
 },
 "nbformat": 4,
 "nbformat_minor": 2
}
