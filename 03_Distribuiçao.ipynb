{
 "cells": [
  {
   "cell_type": "markdown",
   "metadata": {},
   "source": [
    "## Distribuiçao\n",
    "\n",
    "Mostra o comportamento dos dados aleatórios\n",
    "\n",
    "**Distribuiçao Normal OU Gaussiana:**\n",
    "É a distribuiçao mais importante da estatistica onde os dados se apresentam de forma simetrica, como um sino. \n",
    "- A distribuiçao tem desvio de no max 3 desvios padrao da média.\n",
    "- Usa-se para calculo de probabilidade \n",
    "- A media está ao centro e existe uma simetria de dados antes e depois da média\n",
    "- A distribuiçao Normal é continua (valores sempre em intervalos), nao se deve buscar probabilidades discretas (valores exatos), estas serao na distribuiçao Binomial\n",
    "- Para saber se a distribuicao é normal: \n",
    "    - **Histograma**: geralmente se utiliza um histograma. Porem, há casos que a amostra é muito pequena que pode causar distorçoes.\n",
    "    - **Diagrama de probabilidade Normal** (Q-Q Plot)\n",
    "    - **Teste de Shapiro-Wilk:**\\\n",
    "        Teste de hipotese\\\n",
    "        H0 = Dados estao normalmente distribuidos\\\n",
    "        Alfa = 0,05 (Significa o nivel de significacia do teste e geralmente se usa esse valor)\\\n",
    "        Valor de p <= 0,05: Rejeita hipotese nula\\\n",
    "        Valor de p > 0,05: Nao é possivel rejeitar a hipotese nula\\\n",
    "            **+ Exemplo:**\\\n",
    "                p-value = 0.001722 (p<=0.05) Nao normal\\\n",
    "                p-value = 0.05696 (p>0.05) normal\n"
   ]
  },
  {
   "cell_type": "markdown",
   "metadata": {},
   "source": [
    "**Distribuiçao Normal Padrao (Z):**\n",
    "- Referencia para outras distribuiçoes Normais\n",
    "- Media 0 e desvio padrao = 1\n",
    "- Ela mostra o numero de desvios padrao que o valor esta acima ou abaixo da media (Score Z ou Valor Z)\n",
    "    - Score Z = -2 significa que o valor esta a 2 desvios padrao abaixo da media\n",
    "- Usa-se uma formula para calcular a probabilidade de seus dados com relacao a tabela Z\n",
    "\n",
    "- Isso se da porque é muito dificil calcular a probabilidade de uma distrbuiçao Normal, entao criou-se uma tabela com a distribuiçao Normal Padrao Z com valores de 0 a 1 e uma formula para transformar a probabilidade da distribuicao na probabilidade da tabela Z e entao escolher a proobabilidade na tabela.\n",
    "- A tabela Z é para numeros \"menor que\", se o valor for \"maior que\" tem que subtrair 1 no calculo\n",
    "- Na tabela usar o .00 porem se tiver um segundo decimal no valor deve se buscar na coluna do valor do decimal.\n",
    "\n",
    "\n",
    "Formula:"
   ]
  },
  {
   "cell_type": "markdown",
   "metadata": {},
   "source": [
    "## Z = X - μ  / σ        "
   ]
  },
  {
   "cell_type": "markdown",
   "metadata": {},
   "source": [
    "X = Sua distribuiçao\\\n",
    "μ = Média\\\n",
    "σ = Desvio padrao       "
   ]
  },
  {
   "cell_type": "markdown",
   "metadata": {},
   "source": [
    "## Estatística Paramétrica:\n",
    "A distribuicao de dados esta em conformidade com alguma distribuiçao, ex dist normal. Oferece menos risco \n",
    "\n",
    "**Estatisticas Nao-paramétrica:** Quando a distribuiçao de dados é desconhecida. Usado como exceçao\n",
    "\n"
   ]
  },
  {
   "cell_type": "markdown",
   "metadata": {},
   "source": []
  },
  {
   "cell_type": "code",
   "execution_count": null,
   "metadata": {},
   "outputs": [],
   "source": [
    "valor = [22, 10, 12, 14, 13, 15]"
   ]
  }
 ],
 "metadata": {
  "kernelspec": {
   "display_name": "Python 3",
   "language": "python",
   "name": "python3"
  },
  "language_info": {
   "name": "python",
   "version": "3.11.7"
  }
 },
 "nbformat": 4,
 "nbformat_minor": 2
}
