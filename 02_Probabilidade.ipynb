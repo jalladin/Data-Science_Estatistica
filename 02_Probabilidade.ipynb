{
 "cells": [
  {
   "cell_type": "markdown",
   "metadata": {},
   "source": [
    "## **Probabilidade**\n",
    "É a chance de um evento acontecer.\n",
    "\n",
    "- Probabilidade (P): 0 a 1\n",
    "- P = 1 : Evento certo\n",
    "- p = 0 : Evento impossivel\n",
    "- Prababilidade: 0,5 -> 1/2\n",
    "- Impossivel(Nao existe): -0,5 / -20% / 2/1"
   ]
  },
  {
   "cell_type": "markdown",
   "metadata": {},
   "source": [
    "**>> Conceitos**\n",
    "\n",
    "- Experimento: O que esta sendo estudado\n",
    "- Espaço amostral: Todas as possibilidades de ocorrencia do evento\n",
    "- Evento: Resultado ocorrido\n",
    "\n",
    "Exemplo:\n",
    "- Jogar uma moeda **->** EXPERIMENTO\n",
    "- Cara ou coroa **->** ESPAÇO AMOSTRA\n",
    "- Coroa **->**RESULTADO  \n",
    "\n",
    "**Evento Excludente ou Nao excludente**\n",
    "Pode ou nao ocorrer ao mesmo tempo\n",
    "\n",
    "**Evento dependentes ou independentes**\n",
    "A ocorrencia de um evento afeta ou nao o outro, um precisa ocorre para depois que o outro ocorra ou é independente.\n"
   ]
  },
  {
   "cell_type": "markdown",
   "metadata": {},
   "source": [
    "**>> Formula:**\n",
    "\n",
    "### P = Ocorrencia Esperada / Numero de Eventos Possiveis\n"
   ]
  },
  {
   "cell_type": "markdown",
   "metadata": {},
   "source": [
    "**Eventos excludentes**\n",
    "Soma as probabilidades e divide pelo numero de eventos\n",
    "\n",
    "**Eventos Nao excludente**\n",
    "Soma as probabilidades mas subtrai as sobreposiçoes\n",
    "\n",
    "**Eventos independentes**\n",
    "Mais de um evento -> Multiplicaçao\n",
    "\n",
    "**Eventos depentendes**\n",
    "O segundo evento vai depender do primeiro enrao pode ser que tenha que subtrair o resultado do primeiro.\n",
    "\n"
   ]
  },
  {
   "cell_type": "markdown",
   "metadata": {},
   "source": [
    "- **Pequenas amostras**\n",
    "    - Probabilidade de conclusoes falsas\n",
    "    - Nao reprodutivel\n",
    "    - Nao comparavel"
   ]
  },
  {
   "cell_type": "markdown",
   "metadata": {},
   "source": [
    "- **Passeio Aleatório**\n",
    "    - Sucessao de etapas aleatorias e indepentendes \n",
    "     - Uasada para estudarvarios fenomenos naturais e empresariais\n",
    "    - Em finanças é usado para estudar os preços de açoes\n",
    "    - Nao é totalmente aleatorio\n",
    "    - Existe uma distribuicao de probabilidades (Por exemplo, jogar um dado vai dar um numero aleatorio, porem entre 1 e 6, nao é totalmente aleatorio, nao pode dar 20)\n",
    " "
   ]
  },
  {
   "cell_type": "markdown",
   "metadata": {},
   "source": [
    "**Estocástico x Determinístico**\n",
    "\n",
    "- **Estocástisco:** Dada uma mesma entrada, a saída pode variar\n",
    "- **Determinístico:** dada uma mesma entrada, apresenta sempre a  mesma saída"
   ]
  }
 ],
 "metadata": {
  "language_info": {
   "name": "python"
  }
 },
 "nbformat": 4,
 "nbformat_minor": 2
}
