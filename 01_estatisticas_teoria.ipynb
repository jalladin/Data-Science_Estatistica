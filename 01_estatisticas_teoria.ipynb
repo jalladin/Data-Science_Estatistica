{
 "cells": [
  {
   "cell_type": "markdown",
   "metadata": {},
   "source": [
    "## Estatísticas"
   ]
  },
  {
   "cell_type": "markdown",
   "metadata": {},
   "source": [
    "**Divisoes:**\n",
    "\n",
    "- **Descritiva:** Organizar, demostrar e resumir dadados. É muito utilizada na analise exploratoria de dados para entender e interpretar melhor os dados e para apresentar as conclusoes do resultado do trabalho.\n",
    "- **Probabilistica:** Analisa situacoes sujeitas ao acaso, como tirar uma moeda.\n",
    "- **Inferencial:** Obter respostas sobre un fenomeno com dados representativos. Como preferencia de votos sobre un candidado estudando apenas uma amostra que respresenta um todo, ja que seria impossivel consltar a todos os envolvidos."
   ]
  },
  {
   "cell_type": "markdown",
   "metadata": {},
   "source": [
    "**Observaçao e experimento:**\n",
    "\n",
    "- **Observacao:** Quando o estudo nao interfere como uma pesquisa de intencao de voto.\n",
    "- **Experimento:** Condicoes e tratamentos sao impostos ao grupo. Interfere.\n",
    "                   Sao criados grupos e um deles é o grupo de controle para comparar."
   ]
  },
  {
   "cell_type": "markdown",
   "metadata": {},
   "source": [
    "**Variaveis:**\n",
    "\n",
    "- **Quantitativas:** \n",
    "   - Numericas\n",
    "      - Continuas: Valores reais, podem assumir qualquer intervalo\n",
    "      - Discretas: Numeros fixos inteiros e num intervalo. (Quantidade de carros em um estacionamento)\n",
    "- **Qualitativas:** \n",
    "   - Categóricas\n",
    "      - Nominais: Categoricas sem hierarquia (Cor: branco, preto, pardo)\n",
    "      - Ordinais: Categoricas com Hierarquia (Exercito: Soltado, tenente, sargento..)"
   ]
  },
  {
   "cell_type": "markdown",
   "metadata": {},
   "source": [
    "**Resultados de estatisticas**\n",
    "\n",
    "Interpretaçao, Escolhas, Avaliaçao: Após o resultado temos que analisar e tomar as nossas decisoes com relacao ao resultado que obtivemos."
   ]
  },
  {
   "cell_type": "markdown",
   "metadata": {},
   "source": [
    "**Conceitos**\n",
    "\n",
    "- **Populaçao:** alvo do estudo.  (*O CENSO DEMOGRÁFICO pesquisa toda a populacao, eles nao usam amostra.)\n",
    "    - **Amostra:** Subconjunto da populaçao\n",
    "      - **Censo:** CENSO DEMOGRÁFICO pesquisa toda a populacao, eles nao usam amostra.\n",
    "\n",
    "- Uma amostra correta representa as mesmas caracteristiscas da populacao.\n",
    "- Quando uma amostra nao representa a populacao chamamos de **enviesada**.\n",
    "  - Enviesamento é superestimar ou subestimar a populacao. Por exemplo, quando se faz a pesquisa dentro da sua bolha ou pela internet.\n"
   ]
  },
  {
   "cell_type": "markdown",
   "metadata": {},
   "source": [
    "### Tipos de amostras\n",
    "- **Aleatória Simples:** Mais comum. Um determinado numero é retirado de forma aleatoria da populacao. Todos devem ter a mesma chance de ser escolhido. Para isso, indexar e selecionar aleatoriamente.\n",
    "    - Com reposicao: Quando ele é selecionado ele é devolvido ao total e pode ter a chance de ser escolhido aleatoriamente novamente. Ex: Pesquisa sobre uma doença, onde a pessoa naquele momento nao possui a doença, porem ela volta para o todo e pode ser que no futuro ela tenha a doença e possa ser escolhida de forma aleatoria novamente.\n",
    "    - Sem reposiçao: Depois que ele é escolhido ele nao tem mais chance de ser escolhido novamente. Ex: Pesquisa de intençao de voto, nao deve perguntar duas vezes para a mesma pessoa.\n",
    "\n",
    "- **Estratificada:** Quandoa a populacao é divida em estratos e voce quer uma arepresentaçao dessas categorias.\n",
    "- **Sistemática:** Escolhe um elemento aleatorio, a cada N elementos um novo é escolhido. Ex: No controle de alfandega o policia pega uma pessoa a cada 10 que passam para conferir os documentos. Se utiliza por exemplo quando voce nao sabe o numero total de elementos."
   ]
  },
  {
   "cell_type": "markdown",
   "metadata": {},
   "source": [
    "### Medidas de Centralidade"
   ]
  },
  {
   "cell_type": "markdown",
   "metadata": {},
   "source": [
    "- **Media:** Media da amostra (x barra) e o n pequeno é o total da amostra\n",
    "## x̅ = Σx / n\n",
    "Media do total (μ miur) e o N grande é o total da populacao\n",
    "## μ =  Σx / N\n",
    "\n",
    "Media ponderada: Cada numero esta sujeito a um peso\n",
    "\n",
    "- **Moda:** A moda é o valor que mais aparece. Nao necessariamente vai estar exatamente no centro.\n",
    "\n",
    "- **Mediana:** é o valor do meio. Ordenar os valores de forma crescente. \n",
    "- Se a quantidade for par a mediana sera a média dos valores centrais.\n",
    "- Se a quantidade for impar a mediana será o valor na posicao (n+1)/2\n",
    "\n",
    "10,12,13,14,15,22"
   ]
  },
  {
   "cell_type": "markdown",
   "metadata": {},
   "source": [
    "### Medidas de Variabilidade"
   ]
  },
  {
   "attachments": {
    "image-2.png": {
     "image/png": "[encoded data removed]"
    },
    "image.png": {
     "image/png": "[encoded data removed]"
    }
   },
   "cell_type": "markdown",
   "metadata": {},
   "source": [
    "- **Variancia:** Mostrar como os dados variam entre eles. Nao esta relacionado com o total de dados entao nao significa que se tem numeros maiores o valor será maior e sim como os valores variam entre si. Existem duas formulas, uma para calcular a variancia da populacao e outra a da amostragem:\n",
    "\n",
    "Varianza amostra: ![image.png](attachment:image.png)\n",
    "\n",
    "Varianza populacao: ![image-2.png](attachment:image-2.png)\n",
    "\n",
    "- **Desvio Padrao:** Quanto maior o desvio padrao mais afastado os dados estao da média, se for igual a 0 nao existe variaçao.\n",
    "- **Ampitude:** Diferença entre o maior e o menor valor.\n",
    "- **Nao centrais (Quartis):** 1º 25% dos menores valores, 2º 50% dos valores (Equivalenta a mediana), 3º 75% do valores maiores (Q0:Min, Q4: Max)"
   ]
  },
  {
   "cell_type": "markdown",
   "metadata": {},
   "source": [
    "- Amostra:\n",
    "    - Media: x̅ (x barra)\n",
    "    - Desvio Padrao: S\n",
    "\n",
    "- Populacao:\n",
    "    - Média: μ (Miu)\n",
    "    - Desvio Padrao: σ (Sigma)\n"
   ]
  }
 ],
 "metadata": {
  "language_info": {
   "name": "python"
  }
 },
 "nbformat": 4,
 "nbformat_minor": 2
}
